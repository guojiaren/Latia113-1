{
  "nbformat": 4,
  "nbformat_minor": 0,
  "metadata": {
    "colab": {
      "provenance": [],
      "gpuType": "T4"
    },
    "kernelspec": {
      "name": "python3",
      "display_name": "Python 3"
    },
    "language_info": {
      "name": "python"
    },
    "accelerator": "GPU"
  },
  "cells": [
    {
      "cell_type": "markdown",
      "source": [
        "Getting establish a series knowledge"
      ],
      "metadata": {
        "id": "EhQHjTcWxzII"
      }
    },
    {
      "cell_type": "code",
      "source": [
        "a = ['apple','banana','orange']\n",
        "b = [1,2,3,4,5]\n",
        "c = ['apple',1,2,3,['dog','cat']]\n",
        "d = list('apple')"
      ],
      "metadata": {
        "id": "08DWY-ScbiOH"
      },
      "execution_count": null,
      "outputs": []
    },
    {
      "cell_type": "markdown",
      "source": [
        "Getting how to use tuple benefit"
      ],
      "metadata": {
        "id": "ni94MpWHyDwW"
      }
    },
    {
      "cell_type": "code",
      "source": [
        "t = ('apple','banana','orange','grap')\n",
        "a , b , c , d  = t\n",
        "print(a)\n",
        "print(b)\n",
        "print(c)\n",
        "print(d)\n",
        "print(t[0])\n",
        "print(t[1])\n",
        "print(t[2])\n",
        "print(t[3])\n",
        "t1 =('apple','banana','orange')\n",
        "t2 = ('grap','pineapple')\n",
        "t = t1 + t2\n",
        "print(t)"
      ],
      "metadata": {
        "colab": {
          "base_uri": "https://localhost:8080/"
        },
        "id": "3pdpQMIxdcgV",
        "outputId": "460b24cb-8b45-46c9-cf60-ade1f9bfa8d2"
      },
      "execution_count": null,
      "outputs": [
        {
          "output_type": "stream",
          "name": "stdout",
          "text": [
            "apple\n",
            "banana\n",
            "orange\n",
            "grap\n",
            "apple\n",
            "banana\n",
            "orange\n",
            "grap\n",
            "('apple', 'banana', 'orange', 'grap', 'pineapple')\n"
          ]
        }
      ]
    },
    {
      "cell_type": "markdown",
      "source": [
        "learning how to use dictionary leave a"
      ],
      "metadata": {
        "id": "GNkLLIi3yRCe"
      }
    },
    {
      "cell_type": "code",
      "source": [
        "a = dict(name = 'oxxo',age = 18,eat = ['apple','banana'])\n",
        "print(a)\n",
        "print(type(a))"
      ],
      "metadata": {
        "colab": {
          "base_uri": "https://localhost:8080/"
        },
        "id": "T2SJ1angfQZB",
        "outputId": "8bcb27e7-b6be-41d6-d7a6-baf2984c066b"
      },
      "execution_count": null,
      "outputs": [
        {
          "output_type": "stream",
          "name": "stdout",
          "text": [
            "{'name': 'oxxo', 'age': 18, 'eat': ['apple', 'banana']}\n",
            "<class 'dict'>\n"
          ]
        }
      ]
    },
    {
      "cell_type": "markdown",
      "source": [
        "learning how to use set"
      ],
      "metadata": {
        "id": "XzWXZ1sgyeYe"
      }
    },
    {
      "cell_type": "code",
      "source": [
        "c = set ({'x':1,'y':2,'z':3})\n",
        "d = set('hello')\n",
        "print(c)\n",
        "print(d)"
      ],
      "metadata": {
        "colab": {
          "base_uri": "https://localhost:8080/"
        },
        "id": "2Ek39YiwhO3v",
        "outputId": "04faed32-4de3-4e0f-9231-a0b2d88ae1a0"
      },
      "execution_count": 48,
      "outputs": [
        {
          "output_type": "stream",
          "name": "stdout",
          "text": [
            "{'z', 'y', 'x'}\n",
            "{'l', 'o', 'h', 'e'}\n"
          ]
        }
      ]
    },
    {
      "cell_type": "markdown",
      "source": [
        "learning how to use (goble and location)knowledge"
      ],
      "metadata": {
        "id": "lcAi652dqZfx"
      }
    },
    {
      "cell_type": "code",
      "source": [
        "def test (x,y,z):\n",
        "  return x+1,y+1,z+1\n",
        "a = test(1,2,3)\n",
        "print(a)"
      ],
      "metadata": {
        "id": "bFZ9XMQPqYxZ"
      },
      "execution_count": null,
      "outputs": []
    },
    {
      "cell_type": "markdown",
      "source": [
        "Learning how to use(if , else)"
      ],
      "metadata": {
        "id": "4jJE3DGQqSBp"
      }
    },
    {
      "cell_type": "code",
      "source": [
        "a = 2\n",
        "b = 3\n",
        "if a > b:\n",
        "  print('hello')\n",
        "else:\n",
        "  print('world')\n",
        "print('ok')"
      ],
      "metadata": {
        "colab": {
          "base_uri": "https://localhost:8080/"
        },
        "id": "XNENR9gZpbe7",
        "outputId": "473beea3-6711-4d6e-c0e5-e9378a535f91"
      },
      "execution_count": null,
      "outputs": [
        {
          "output_type": "stream",
          "name": "stdout",
          "text": [
            "world\n",
            "ok\n"
          ]
        }
      ]
    },
    {
      "cell_type": "markdown",
      "source": [
        "Learning how to use (if , elif ,else)"
      ],
      "metadata": {
        "id": "aMK_judLq8zZ"
      }
    },
    {
      "cell_type": "code",
      "source": [
        "a = 2\n",
        "b = 3\n",
        "if a < b:\n",
        "  print('a < b')\n",
        "  if a == 1:\n",
        "    print('a = 1')\n",
        "  elif a == 2:\n",
        "    print('a = 2')\n",
        "  elif a == 3:\n",
        "    print('a = 3')\n",
        "elif a > b:\n",
        "  print('a > b')\n",
        "else:\n",
        "  print('a = b')\n",
        "print('ok')"
      ],
      "metadata": {
        "colab": {
          "base_uri": "https://localhost:8080/"
        },
        "id": "dUNgrrF3q9hI",
        "outputId": "f15c5923-8dde-449a-d547-b731b23c46db"
      },
      "execution_count": null,
      "outputs": [
        {
          "output_type": "stream",
          "name": "stdout",
          "text": [
            "a < b\n",
            "a = 2\n",
            "ok\n"
          ]
        }
      ]
    },
    {
      "cell_type": "markdown",
      "source": [
        "Learning how to use Logic judgment (and , or)"
      ],
      "metadata": {
        "id": "_QrdZT1rsrHY"
      }
    },
    {
      "cell_type": "code",
      "source": [
        "a = 2\n",
        "b = 3\n",
        "c = 0\n",
        "if a>b or a<c and a == 2 or b == 4:\n",
        "  print('ok1')\n",
        "else:\n",
        "  print('xxx')"
      ],
      "metadata": {
        "colab": {
          "base_uri": "https://localhost:8080/"
        },
        "id": "aYmtKoGLsIua",
        "outputId": "9f813822-8a91-48c5-9a43-64535a20bd6e"
      },
      "execution_count": null,
      "outputs": [
        {
          "output_type": "stream",
          "name": "stdout",
          "text": [
            "xxx\n"
          ]
        }
      ]
    },
    {
      "cell_type": "markdown",
      "source": [
        "learning how to use Duplicate(for and while)"
      ],
      "metadata": {
        "id": "lOkY47dss6HQ"
      }
    },
    {
      "cell_type": "code",
      "source": [
        "for a in ['x','y','z']:\n",
        "  for b in [1,2,3]:\n",
        "    print(b)\n",
        "  print(a)\n",
        "for a in ['x','y','z']:\n",
        "  for b in [1,2,3]:\n",
        "    print(f'{a}{b}')\n",
        "  i = []\n",
        "for t in range(10):\n",
        "  t+= 1\n",
        "  i.append(t)\n",
        "i\n"
      ],
      "metadata": {
        "colab": {
          "base_uri": "https://localhost:8080/"
        },
        "id": "-idsiXNns4PX",
        "outputId": "d4ea0abd-a38d-490f-957e-d88d1d2fe78b"
      },
      "execution_count": null,
      "outputs": [
        {
          "output_type": "stream",
          "name": "stdout",
          "text": [
            "1\n",
            "2\n",
            "3\n",
            "x\n",
            "1\n",
            "2\n",
            "3\n",
            "y\n",
            "1\n",
            "2\n",
            "3\n",
            "z\n",
            "x1\n",
            "x2\n",
            "x3\n",
            "y1\n",
            "y2\n",
            "y3\n",
            "z1\n",
            "z2\n",
            "z3\n"
          ]
        },
        {
          "output_type": "execute_result",
          "data": {
            "text/plain": [
              "[1, 2, 3, 4, 5, 6, 7, 8, 9, 10]"
            ]
          },
          "metadata": {},
          "execution_count": 41
        }
      ]
    },
    {
      "cell_type": "markdown",
      "source": [
        "Exception(try , except),learning how to use input a and a+1 a=?"
      ],
      "metadata": {
        "id": "qOAZvdg1t4io"
      }
    },
    {
      "cell_type": "code",
      "source": [
        "\n",
        "a = int(input ('pls input here:'))\n",
        "print(a + 1)\n",
        "print('hello')"
      ],
      "metadata": {
        "id": "d6yB3K0dt_Tg",
        "colab": {
          "base_uri": "https://localhost:8080/"
        },
        "outputId": "6f0284a0-9277-4191-bdf4-cf02ebb4b92a"
      },
      "execution_count": 46,
      "outputs": [
        {
          "output_type": "stream",
          "name": "stdout",
          "text": [
            "pls input here:13\n",
            "14\n",
            "hello\n"
          ]
        }
      ]
    },
    {
      "cell_type": "markdown",
      "source": [
        "learning how to useexpression add for i in range"
      ],
      "metadata": {
        "id": "iKGWn4WIuuWI"
      }
    },
    {
      "cell_type": "code",
      "source": [
        "a = []\n",
        "for i in range(1,10):\n",
        "  a.append(i*i)\n",
        "print(a)\n",
        "b = [j*j for j in range(1,10)]\n",
        "print(b)"
      ],
      "metadata": {
        "id": "zZXRE4Bqu7Xn"
      },
      "execution_count": null,
      "outputs": []
    }
  ]
}