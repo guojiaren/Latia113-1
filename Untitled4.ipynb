{
  "nbformat": 4,
  "nbformat_minor": 0,
  "metadata": {
    "colab": {
      "provenance": [],
      "authorship_tag": "ABX9TyPvw8TsjeNVZdLtgwU6JAg2",
      "include_colab_link": true
    },
    "kernelspec": {
      "name": "python3",
      "display_name": "Python 3"
    },
    "language_info": {
      "name": "python"
    }
  },
  "cells": [
    {
      "cell_type": "markdown",
      "metadata": {
        "id": "view-in-github",
        "colab_type": "text"
      },
      "source": [
        "<a href=\"https://colab.research.google.com/github/guojiaren/Latia113-1/blob/main/Untitled4.ipynb\" target=\"_parent\"><img src=\"https://colab.research.google.com/assets/colab-badge.svg\" alt=\"Open In Colab\"/></a>"
      ]
    },
    {
      "cell_type": "code",
      "source": [
        "import pandas as pd\n",
        "import numpy as np\n",
        "\n",
        "df = pd.read_csv('A_stat_data_112.csv')\n",
        "figure_df = df[df['mission_field'] == '人物']\n",
        "difficulty_mapping = {'易': 1, '中': 2, '難': 3}\n",
        "\n",
        "figure_df['mission_difficulty'] =figure_df['mission_difficulty'].map(difficulty_mapping)\n",
        "\n",
        "figure_df = figure_df.sort_values(by='mission_status',ascending=True).reset_index(drop=True)\n",
        "\n",
        "difficulty_figure_df = figure_df[figure_df['mission_difficulty']== 3]\n",
        "misson_status_figure_df =difficulty_figure_df[difficulty_figure_df['mission_status'] == '已派發任务']\n",
        "from google.colab import auth\n",
        "auth.authenticate_user()\n",
        "import gspread\n",
        "from google.auth import default\n",
        "creds,_=default()\n",
        "gc = gspread.authorize(creds)\n",
        "gsheets =gc.open_by_url(\"https://docs.google.com/spreadsheets/d/1HSZ5icoArjdLl4Ez73HjNIDrS0SFK_WFEOYxaQsdPfk/edit?gid=0#gid=0\")\n",
        "from gspread_dataframe import set_with_dataframe\n",
        "#select new sheets\n",
        "worksheet = gsheets.get_worksheet(0)\n",
        "#taking your DataFrame into Googlesheets\n",
        "set_with_dataframe(worksheet,misson_status_figure_df)\n"
      ],
      "metadata": {
        "id": "a4_p8yYpunXY",
        "colab": {
          "base_uri": "https://localhost:8080/"
        },
        "outputId": "c8b943f7-c1a0-46e1-b314-13a0972b5346"
      },
      "execution_count": 6,
      "outputs": [
        {
          "output_type": "stream",
          "name": "stderr",
          "text": [
            "<ipython-input-6-dc5dbfff4578>:8: SettingWithCopyWarning: \n",
            "A value is trying to be set on a copy of a slice from a DataFrame.\n",
            "Try using .loc[row_indexer,col_indexer] = value instead\n",
            "\n",
            "See the caveats in the documentation: https://pandas.pydata.org/pandas-docs/stable/user_guide/indexing.html#returning-a-view-versus-a-copy\n",
            "  figure_df['mission_difficulty'] =figure_df['mission_difficulty'].map(difficulty_mapping)\n"
          ]
        }
      ]
    },
    {
      "cell_type": "markdown",
      "source": [
        "这个程式的功能是从一个CSV文件中读取数据，进行数据筛选和处理，最后将处理后的数据上传到Google Sheets。具体步骤如下：\n",
        "\n",
        "1. **读取CSV文件**：\n",
        "   ```python\n",
        "   df = pd.read_csv('A_stat_data_112.csv')\n",
        "   ```\n",
        "   程式首先使用`pandas`库中的`read_csv`方法读取一个名为 `'A_stat_data_112.csv'` 的CSV文件，并将其内容存储在`df`数据框中。\n",
        "\n",
        "2. **筛选数据**：\n",
        "   ```python\n",
        "   figure_df = df[df['mission_field'] == '人物']\n",
        "   ```\n",
        "   接下来，程式通过筛选出`'mission_field'`列中值为 `'人物'` 的数据，创建了一个新的数据框 `figure_df`。这意味着，程式只关注\"人物\"这个任务领域的数据。\n",
        "\n",
        "3. **映射任务难度**：\n",
        "   ```python\n",
        "   difficulty_mapping = {'易': 1, '中': 2, '難': 3}\n",
        "   figure_df['mission_difficulty'] = figure_df['mission_difficulty'].map(difficulty_mapping)\n",
        "   ```\n",
        "   这一步将 `mission_difficulty` 列的任务难度从中文字符（如\"易\", \"中\", \"難\"）转换为对应的数字（1, 2, 3）。`map()`函数将这些字符映射为数字，从而使得任务难度数据变得更便于处理和分析。\n",
        "\n",
        "4. **排序数据**：\n",
        "   ```python\n",
        "   figure_df = figure_df.sort_values(by='mission_status', ascending=True).reset_index(drop=True)\n",
        "   ```\n",
        "   接着，程式按`'mission_status'`列的值对数据进行升序排序，并重设索引。这样，所有任务的状态将按一定顺序排列，便于后续的分析和处理。\n",
        "\n",
        "5. **筛选出难度为3的任务**：\n",
        "   ```python\n",
        "   difficulty_figure_df = figure_df[figure_df['mission_difficulty'] == 3]\n",
        "   ```\n",
        "   程式进一步筛选出所有任务难度为3（\"難\"）的行，并将其保存在`difficulty_figure_df`数据框中。\n",
        "\n",
        "6. **筛选出任务状态为\"已派發任务\"的任务**：\n",
        "   ```python\n",
        "   misson_status_figure_df = difficulty_figure_df[difficulty_figure_df['mission_status'] == '已派發任务']\n",
        "   ```\n",
        "   在上一步的基础上，程式筛选出任务状态为\"已派發任务\"的任务，并保存在`misson_status_figure_df`数据框中。这是最终需要上传到Google Sheets的数据。\n",
        "\n",
        "7. **Google Sheets认证与连接**：\n",
        "   ```python\n",
        "   from google.colab import auth\n",
        "   auth.authenticate_user()\n",
        "   import gspread\n",
        "   from google.auth import default\n",
        "   creds, _ = default()\n",
        "   gc = gspread.authorize(creds)\n",
        "   gsheets = gc.open_by_url(\"https://docs.google.com/spreadsheets/d/1HSZ5icoArjdLl4Ez73HjNIDrS0SFK_WFEOYxaQsdPfk/edit?gid=0#gid=0\")\n",
        "   ```\n",
        "   这部分代码是通过Google Colab的认证功能获取访问权限，使用 `gspread` 库连接到一个指定的Google Sheets文档。`open_by_url`方法通过指定的URL打开目标工作表。\n",
        "\n",
        "8. **上传数据到Google Sheets**：\n",
        "   ```python\n",
        "   from gspread_dataframe import set_with_dataframe\n",
        "   worksheet = gsheets.get_worksheet(0)\n",
        "   set_with_dataframe(worksheet, misson_status_figure_df)\n",
        "   ```\n",
        "   程式选择了Google Sheets中的第一个工作表，并通过`gspread_dataframe`库的`set_with_dataframe()`方法将`misson_status_figure_df`数据框的内容上传到该工作表。\n",
        "\n",
        "### 总结：\n",
        "- 程式首先从CSV文件读取数据，然后筛选出\"人物\"领域的任务。\n",
        "- 通过将任务难度映射为数字并排序，进一步筛选出难度为3且任务状态为\"已派發任务\"的任务。\n",
        "- 最终，处理后的数据会被上传到指定的Google Sheets工作表中，以便进一步查看或分享。\n",
        "\n",
        "如果你有更具体的代码细节或遇到问题，可以进一步提出。"
      ],
      "metadata": {
        "id": "IaoE-k2kTa_d"
      }
    }
  ]
}