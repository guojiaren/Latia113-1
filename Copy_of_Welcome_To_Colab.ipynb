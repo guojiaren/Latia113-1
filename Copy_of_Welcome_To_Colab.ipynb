{
  "cells": [
    {
      "cell_type": "markdown",
      "metadata": {
        "id": "view-in-github",
        "colab_type": "text"
      },
      "source": [
        "<a href=\"https://colab.research.google.com/github/guojiaren/Latia113-1/blob/main/Copy_of_Welcome_To_Colab.ipynb\" target=\"_parent\"><img src=\"https://colab.research.google.com/assets/colab-badge.svg\" alt=\"Open In Colab\"/></a>"
      ]
    },
    {
      "cell_type": "markdown",
      "source": [],
      "metadata": {
        "id": "0cAMZV6-h9r5"
      }
    },
    {
      "cell_type": "code",
      "source": [
        "import pandas as pd\n",
        "import statsmodels.api as sm\n",
        "import numpy as np\n",
        "\n",
        "df2 = pd.DataFrame(np.random.randn(100, 4), columns=list(\"ABCD\"))\n",
        "X = df2['A']\n",
        "y = df2['B']\n",
        "# Add a constant to the model (for the intercept term)\n",
        "X = sm.add_constant(X)\n",
        "X\n",
        "# Fit the regression model\n",
        "model = sm.OLS(y, X).fit()\n",
        "\n",
        "# Display the regression results\n",
        "print(model.summary())"
      ],
      "metadata": {
        "id": "WSQGfyqU5Gwa",
        "outputId": "4a40d477-5ab9-421f-8974-1475726bb3ce",
        "colab": {
          "base_uri": "https://localhost:8080/"
        }
      },
      "execution_count": null,
      "outputs": [
        {
          "output_type": "stream",
          "name": "stdout",
          "text": [
            "                            OLS Regression Results                            \n",
            "==============================================================================\n",
            "Dep. Variable:                      B   R-squared:                       0.019\n",
            "Model:                            OLS   Adj. R-squared:                  0.009\n",
            "Method:                 Least Squares   F-statistic:                     1.897\n",
            "Date:                Thu, 07 Nov 2024   Prob (F-statistic):              0.172\n",
            "Time:                        09:14:07   Log-Likelihood:                -145.51\n",
            "No. Observations:                 100   AIC:                             295.0\n",
            "Df Residuals:                      98   BIC:                             300.2\n",
            "Df Model:                           1                                         \n",
            "Covariance Type:            nonrobust                                         \n",
            "==============================================================================\n",
            "                 coef    std err          t      P>|t|      [0.025      0.975]\n",
            "------------------------------------------------------------------------------\n",
            "const         -0.0425      0.105     -0.406      0.686      -0.250       0.165\n",
            "A              0.1423      0.103      1.377      0.172      -0.063       0.347\n",
            "==============================================================================\n",
            "Omnibus:                       11.202   Durbin-Watson:                   1.940\n",
            "Prob(Omnibus):                  0.004   Jarque-Bera (JB):               12.299\n",
            "Skew:                          -0.664   Prob(JB):                      0.00213\n",
            "Kurtosis:                       4.089   Cond. No.                         1.02\n",
            "==============================================================================\n",
            "\n",
            "Notes:\n",
            "[1] Standard Errors assume that the covariance matrix of the errors is correctly specified.\n"
          ]
        }
      ]
    },
    {
      "cell_type": "code",
      "source": [
        "import pandas as pd\n",
        "import statsmodels.api as sm\n",
        "import numpy as np\n",
        "\n",
        "# 創建資料框\n",
        "df2 = pd.DataFrame(np.random.randn(100, 4), columns=list(\"ABCD\"))\n",
        "\n",
        "# 定義因變數 y 和自變數 X（多重回歸使用多個自變數）\n",
        "X = df2.iloc[:, 1:3]  # 取 B 和 C 兩列作為自變數\n",
        "y = df2['A']  # 目標變數是 A\n",
        "\n",
        "# 為 X 加上常數項（截距）\n",
        "X = sm.add_constant(X)\n",
        "\n",
        "# 擬合回歸模型\n",
        "model = sm.OLS(y, X).fit()\n",
        "\n",
        "# 顯示回歸結果\n",
        "print(model.summary())\n"
      ],
      "metadata": {
        "id": "_54-yLUd6wKe",
        "outputId": "c493d8f9-6a99-4f74-f031-85a4c977445d",
        "colab": {
          "base_uri": "https://localhost:8080/"
        }
      },
      "execution_count": null,
      "outputs": [
        {
          "output_type": "stream",
          "name": "stdout",
          "text": [
            "                            OLS Regression Results                            \n",
            "==============================================================================\n",
            "Dep. Variable:                      A   R-squared:                       0.018\n",
            "Model:                            OLS   Adj. R-squared:                 -0.002\n",
            "Method:                 Least Squares   F-statistic:                    0.8960\n",
            "Date:                Thu, 07 Nov 2024   Prob (F-statistic):              0.412\n",
            "Time:                        09:19:13   Log-Likelihood:                -149.51\n",
            "No. Observations:                 100   AIC:                             305.0\n",
            "Df Residuals:                      97   BIC:                             312.8\n",
            "Df Model:                           2                                         \n",
            "Covariance Type:            nonrobust                                         \n",
            "==============================================================================\n",
            "                 coef    std err          t      P>|t|      [0.025      0.975]\n",
            "------------------------------------------------------------------------------\n",
            "const         -0.1641      0.111     -1.478      0.143      -0.384       0.056\n",
            "B             -0.1270      0.101     -1.255      0.213      -0.328       0.074\n",
            "C              0.0575      0.098      0.587      0.559      -0.137       0.252\n",
            "==============================================================================\n",
            "Omnibus:                        1.358   Durbin-Watson:                   1.895\n",
            "Prob(Omnibus):                  0.507   Jarque-Bera (JB):                0.848\n",
            "Skew:                           0.028   Prob(JB):                        0.654\n",
            "Kurtosis:                       3.448   Cond. No.                         1.25\n",
            "==============================================================================\n",
            "\n",
            "Notes:\n",
            "[1] Standard Errors assume that the covariance matrix of the errors is correctly specified.\n"
          ]
        }
      ]
    }
  ],
  "metadata": {
    "colab": {
      "provenance": [],
      "include_colab_link": true
    },
    "kernelspec": {
      "display_name": "Python 3",
      "name": "python3"
    }
  },
  "nbformat": 4,
  "nbformat_minor": 0
}