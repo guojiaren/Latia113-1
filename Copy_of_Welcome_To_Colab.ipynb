{
  "cells": [
    {
      "cell_type": "markdown",
      "metadata": {
        "id": "view-in-github",
        "colab_type": "text"
      },
      "source": [
        "<a href=\"https://colab.research.google.com/github/guojiaren/Latia113-1/blob/main/Copy_of_Welcome_To_Colab.ipynb\" target=\"_parent\"><img src=\"https://colab.research.google.com/assets/colab-badge.svg\" alt=\"Open In Colab\"/></a>"
      ]
    },
    {
      "cell_type": "markdown",
      "source": [],
      "metadata": {
        "id": "0cAMZV6-h9r5"
      }
    },
    {
      "cell_type": "code",
      "source": [
        "import pandas as pd\n",
        "import statsmodels.api as sm\n",
        "import numpy as np\n",
        "\n",
        "df2 = pd.DataFrame(np.random.randn(100, 4), columns=list(\"ABCD\"))\n",
        "X = df2['A']\n",
        "y = df2['B']\n",
        "# Add a constant to the model (for the intercept term)\n",
        "X = sm.add_constant(X)\n",
        "X\n",
        "# Fit the regression model\n",
        "model = sm.OLS(y, X).fit()\n",
        "\n",
        "# Display the regression results\n",
        "print(model.summary())"
      ],
      "metadata": {
        "id": "WSQGfyqU5Gwa",
        "outputId": "4a40d477-5ab9-421f-8974-1475726bb3ce",
        "colab": {
          "base_uri": "https://localhost:8080/"
        }
      },
      "execution_count": null,
      "outputs": [
        {
          "output_type": "stream",
          "name": "stdout",
          "text": [
            "                            OLS Regression Results                            \n",
            "==============================================================================\n",
            "Dep. Variable:                      B   R-squared:                       0.019\n",
            "Model:                            OLS   Adj. R-squared:                  0.009\n",
            "Method:                 Least Squares   F-statistic:                     1.897\n",
            "Date:                Thu, 07 Nov 2024   Prob (F-statistic):              0.172\n",
            "Time:                        09:14:07   Log-Likelihood:                -145.51\n",
            "No. Observations:                 100   AIC:                             295.0\n",
            "Df Residuals:                      98   BIC:                             300.2\n",
            "Df Model:                           1                                         \n",
            "Covariance Type:            nonrobust                                         \n",
            "==============================================================================\n",
            "                 coef    std err          t      P>|t|      [0.025      0.975]\n",
            "------------------------------------------------------------------------------\n",
            "const         -0.0425      0.105     -0.406      0.686      -0.250       0.165\n",
            "A              0.1423      0.103      1.377      0.172      -0.063       0.347\n",
            "==============================================================================\n",
            "Omnibus:                       11.202   Durbin-Watson:                   1.940\n",
            "Prob(Omnibus):                  0.004   Jarque-Bera (JB):               12.299\n",
            "Skew:                          -0.664   Prob(JB):                      0.00213\n",
            "Kurtosis:                       4.089   Cond. No.                         1.02\n",
            "==============================================================================\n",
            "\n",
            "Notes:\n",
            "[1] Standard Errors assume that the covariance matrix of the errors is correctly specified.\n"
          ]
        }
      ]
    },
    {
      "cell_type": "code",
      "source": [
        "import pandas as pd\n",
        "import statsmodels.api as sm\n",
        "import numpy as np\n",
        "\n",
        "# 創建資料框\n",
        "df2 = pd.DataFrame(np.random.randn(100, 4), columns=list(\"ABCD\"))\n",
        "\n",
        "# 定義因變數 y 和自變數 X（多重回歸使用多個自變數）\n",
        "X = df2.iloc[:, 1:3]  # 取 B 和 C 兩列作為自變數\n",
        "y = df2['A']  # 目標變數是 A\n",
        "\n",
        "# 為 X 加上常數項（截距）\n",
        "X = sm.add_constant(X)\n",
        "\n",
        "# 擬合回歸模型\n",
        "model = sm.OLS(y, X).fit()\n",
        "\n",
        "# 顯示回歸結果\n",
        "print(model.summary())\n"
      ],
      "metadata": {
        "id": "_54-yLUd6wKe",
        "outputId": "c493d8f9-6a99-4f74-f031-85a4c977445d",
        "colab": {
          "base_uri": "https://localhost:8080/"
        }
      },
      "execution_count": null,
      "outputs": [
        {
          "output_type": "stream",
          "name": "stdout",
          "text": [
            "                            OLS Regression Results                            \n",
            "==============================================================================\n",
            "Dep. Variable:                      A   R-squared:                       0.018\n",
            "Model:                            OLS   Adj. R-squared:                 -0.002\n",
            "Method:                 Least Squares   F-statistic:                    0.8960\n",
            "Date:                Thu, 07 Nov 2024   Prob (F-statistic):              0.412\n",
            "Time:                        09:19:13   Log-Likelihood:                -149.51\n",
            "No. Observations:                 100   AIC:                             305.0\n",
            "Df Residuals:                      97   BIC:                             312.8\n",
            "Df Model:                           2                                         \n",
            "Covariance Type:            nonrobust                                         \n",
            "==============================================================================\n",
            "                 coef    std err          t      P>|t|      [0.025      0.975]\n",
            "------------------------------------------------------------------------------\n",
            "const         -0.1641      0.111     -1.478      0.143      -0.384       0.056\n",
            "B             -0.1270      0.101     -1.255      0.213      -0.328       0.074\n",
            "C              0.0575      0.098      0.587      0.559      -0.137       0.252\n",
            "==============================================================================\n",
            "Omnibus:                        1.358   Durbin-Watson:                   1.895\n",
            "Prob(Omnibus):                  0.507   Jarque-Bera (JB):                0.848\n",
            "Skew:                           0.028   Prob(JB):                        0.654\n",
            "Kurtosis:                       3.448   Cond. No.                         1.25\n",
            "==============================================================================\n",
            "\n",
            "Notes:\n",
            "[1] Standard Errors assume that the covariance matrix of the errors is correctly specified.\n"
          ]
        }
      ]
    },
    {
      "cell_type": "markdown",
      "source": [
        "Dep. Variable:A is - see B because B is answer (-) and Dep. Variable: A is + see C because of C is answer + . Prob (F-statistic) is 0.412 so this answer is false because P value is less than 0.1"
      ],
      "metadata": {
        "id": "rWlbmLPhC9uR"
      }
    },
    {
      "cell_type": "code",
      "source": [
        "import pandas as pd\n",
        "import numpy as np\n",
        "from sklearn.ensemble import RandomForestRegressor\n",
        "from sklearn.model_selection import train_test_split\n",
        "from sklearn.metrics import mean_squared_error\n",
        "\n",
        "df = pd.read_csv('A_stat_data_112.csv')\n",
        "# 假設要預測 'correct_rate' 並使用其他數值型變量作為特徵\n",
        "df = df.dropna(subset=['correct_rate']) # 去除 'correct_rate' 為 NaN 的行\n",
        "X = df[['grade', 'is_completed', 'answer_duration_sec']] # 例選三個特徵\n",
        "y = df['correct_rate']\n",
        "# 分割訓練集和測試集\n",
        "X_train, X_test, y_train, y_test = train_test_split(X, y, test_size=0.2, random_state=42)\n",
        "# 訓練隨機森林回歸模型\n",
        "rf_model = RandomForestRegressor(n_estimators=100, random_state=42)\n",
        "rf_model.fit(X_train, y_train)\n",
        "# 預測及評估\n",
        "y_pred = rf_model.predict(X_test)\n",
        "print(\"均方誤差 (MSE):\", mean_squared_error(y_test, y_pred))\n",
        "\n",
        "# 將特徵重要性與特徵名稱對應起來\n",
        "feature_importance = pd.DataFrame({\n",
        "'Feature': X.columns,\n",
        "'Importance': rf_model.feature_importances_\n",
        "})\n",
        "# 顯示特徵重要性\n",
        "print(feature_importance)\n",
        "\n",
        "#R2\n",
        "from sklearn.metrics import r2_score\n",
        "r2 = r2_score(y_test, y_pred)\n",
        "print(\"R^2:\", r2)"
      ],
      "metadata": {
        "colab": {
          "base_uri": "https://localhost:8080/"
        },
        "id": "zM6KpF5OBSE4",
        "outputId": "693345fc-c0ee-4f89-c933-65d5a2465ebb"
      },
      "execution_count": 1,
      "outputs": [
        {
          "output_type": "stream",
          "name": "stdout",
          "text": [
            "均方誤差 (MSE): 0.07500122426622928\n",
            "               Feature  Importance\n",
            "0                grade    0.037625\n",
            "1         is_completed    0.000000\n",
            "2  answer_duration_sec    0.962375\n",
            "R^2: 0.2585571385908416\n"
          ]
        }
      ]
    },
    {
      "cell_type": "code",
      "source": [],
      "metadata": {
        "id": "a5PCCb3kB37S"
      },
      "execution_count": null,
      "outputs": []
    }
  ],
  "metadata": {
    "colab": {
      "provenance": [],
      "gpuType": "T4",
      "include_colab_link": true
    },
    "kernelspec": {
      "display_name": "Python 3",
      "name": "python3"
    },
    "accelerator": "GPU"
  },
  "nbformat": 4,
  "nbformat_minor": 0
}